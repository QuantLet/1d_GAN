{
 "cells": [
  {
   "cell_type": "code",
   "execution_count": 1,
   "metadata": {},
   "outputs": [],
   "source": [
    "import os\n",
    "import imageio\n",
    "from skimage.io import imread_collection\n",
    "\n",
    "import numpy as np\n",
    "import matplotlib.pyplot as plt"
   ]
  },
  {
   "cell_type": "code",
   "execution_count": 2,
   "metadata": {},
   "outputs": [],
   "source": [
    "## directories\n",
    "paths = ['images',\n",
    "            'images/logistic',\n",
    "                'images/logistic/sigma',\n",
    "                'images/logistic/theta',\n",
    "        ]\n",
    "\n",
    "for i in paths:\n",
    "    if not os.path.exists(i):\n",
    "        os.makedirs(i)"
   ]
  },
  {
   "cell_type": "code",
   "execution_count": 3,
   "metadata": {},
   "outputs": [],
   "source": [
    "# discriminator function in vanilla GAN\n",
    "def D(x, theta, sigma2):\n",
    "    D = 1 / (1 + np.exp(-(1/(2*sigma2)) * (2*theta*x - theta**2)))\n",
    "    return D"
   ]
  },
  {
   "cell_type": "code",
   "execution_count": 45,
   "metadata": {},
   "outputs": [],
   "source": [
    "# fix theta=1 and plot discriminator for variances varying from 0.1 to 15.0\n",
    "x = np.linspace(-40, 40)\n",
    "theta = 1\n",
    "for sigma2 in np.arange(0.1, 15.1, 0.1):\n",
    "    plt.plot(x, D(x, theta, sigma2), label=f'$\\sigma^2$={round(sigma2,1)}')\n",
    "    plt.ylim(0.0,1.0)\n",
    "    plt.xlim(min(x)+5, max(x)-5)\n",
    "    plt.legend(loc = 2, handlelength = 0)\n",
    "    plt.savefig(f'images/logistic/sigma/log_sigma_{sigma2:04.1f}.jpeg', transparent=True)\n",
    "    plt.close()"
   ]
  },
  {
   "cell_type": "code",
   "execution_count": 46,
   "metadata": {},
   "outputs": [],
   "source": [
    "# make GIF\n",
    "directory = 'images/logistic/sigma/*.jpeg'\n",
    "images = imread_collection(directory)\n",
    "imageio.mimsave('images/animation_sigma.mp4', images, quality=9, fps=10)"
   ]
  },
  {
   "cell_type": "code",
   "execution_count": 47,
   "metadata": {},
   "outputs": [],
   "source": [
    "# fix sigma^2=1 and plot discriminator for expectations varying from 0.1 to 15.0\n",
    "x = np.linspace(-10, 15)\n",
    "sigma2 = 1\n",
    "for theta in np.arange(0.1, 15.1, 0.1):\n",
    "    plt.plot(x, D(x, theta, sigma2), label=f'$\\\\theta$={round(theta,1)}')\n",
    "    plt.ylim(0.0,1.0)\n",
    "    plt.xlim(min(x)+5, max(x)-5)\n",
    "    plt.legend(loc = 2, handlelength = 0)\n",
    "    plt.savefig(f'images/logistic/theta/log_theta_{theta:04.1f}.jpeg', transparent=True)\n",
    "    plt.close()"
   ]
  },
  {
   "cell_type": "code",
   "execution_count": 48,
   "metadata": {},
   "outputs": [],
   "source": [
    "# make GIF\n",
    "directory = 'images/logistic/theta/*.jpeg'\n",
    "images = imread_collection(directory)\n",
    "imageio.mimsave('images/animation_theta.mp4', images, quality=9, fps=10)"
   ]
  }
 ],
 "metadata": {
  "kernelspec": {
   "display_name": "Python 3",
   "language": "python",
   "name": "python3"
  },
  "language_info": {
   "codemirror_mode": {
    "name": "ipython",
    "version": 3
   },
   "file_extension": ".py",
   "mimetype": "text/x-python",
   "name": "python",
   "nbconvert_exporter": "python",
   "pygments_lexer": "ipython3",
   "version": "3.8.5"
  }
 },
 "nbformat": 4,
 "nbformat_minor": 4
}
